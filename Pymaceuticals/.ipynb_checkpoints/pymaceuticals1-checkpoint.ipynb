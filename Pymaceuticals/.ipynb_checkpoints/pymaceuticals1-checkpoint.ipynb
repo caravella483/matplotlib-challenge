{
 "cells": [
  {
   "cell_type": "code",
   "execution_count": 2,
   "metadata": {},
   "outputs": [],
   "source": [
    "# Dependencies and Setup\n",
    "%matplotlib inline\n",
    "import matplotlib.pyplot as plt\n",
    "import pandas as pd\n",
    "import numpy as np\n",
    "from scipy import stats"
   ]
  },
  {
   "cell_type": "code",
   "execution_count": 3,
   "metadata": {},
   "outputs": [],
   "source": [
    "# Hide warning messages in notebook\n",
    "import warnings\n",
    "warnings.filterwarnings('ignore')"
   ]
  },
  {
   "cell_type": "code",
   "execution_count": 4,
   "metadata": {},
   "outputs": [
    {
     "data": {
      "text/html": [
       "<div>\n",
       "<style scoped>\n",
       "    .dataframe tbody tr th:only-of-type {\n",
       "        vertical-align: middle;\n",
       "    }\n",
       "\n",
       "    .dataframe tbody tr th {\n",
       "        vertical-align: top;\n",
       "    }\n",
       "\n",
       "    .dataframe thead th {\n",
       "        text-align: right;\n",
       "    }\n",
       "</style>\n",
       "<table border=\"1\" class=\"dataframe\">\n",
       "  <thead>\n",
       "    <tr style=\"text-align: right;\">\n",
       "      <th></th>\n",
       "      <th>Mouse ID</th>\n",
       "      <th>Timepoint</th>\n",
       "      <th>Tumor Volume (mm3)</th>\n",
       "      <th>Metastatic Sites</th>\n",
       "      <th>Drug</th>\n",
       "    </tr>\n",
       "  </thead>\n",
       "  <tbody>\n",
       "    <tr>\n",
       "      <td>0</td>\n",
       "      <td>b128</td>\n",
       "      <td>0</td>\n",
       "      <td>45.0</td>\n",
       "      <td>0</td>\n",
       "      <td>Capomulin</td>\n",
       "    </tr>\n",
       "    <tr>\n",
       "      <td>1</td>\n",
       "      <td>f932</td>\n",
       "      <td>0</td>\n",
       "      <td>45.0</td>\n",
       "      <td>0</td>\n",
       "      <td>Ketapril</td>\n",
       "    </tr>\n",
       "    <tr>\n",
       "      <td>2</td>\n",
       "      <td>g107</td>\n",
       "      <td>0</td>\n",
       "      <td>45.0</td>\n",
       "      <td>0</td>\n",
       "      <td>Ketapril</td>\n",
       "    </tr>\n",
       "    <tr>\n",
       "      <td>3</td>\n",
       "      <td>a457</td>\n",
       "      <td>0</td>\n",
       "      <td>45.0</td>\n",
       "      <td>0</td>\n",
       "      <td>Ketapril</td>\n",
       "    </tr>\n",
       "    <tr>\n",
       "      <td>4</td>\n",
       "      <td>c819</td>\n",
       "      <td>0</td>\n",
       "      <td>45.0</td>\n",
       "      <td>0</td>\n",
       "      <td>Ketapril</td>\n",
       "    </tr>\n",
       "  </tbody>\n",
       "</table>\n",
       "</div>"
      ],
      "text/plain": [
       "  Mouse ID  Timepoint  Tumor Volume (mm3)  Metastatic Sites       Drug\n",
       "0     b128          0                45.0                 0  Capomulin\n",
       "1     f932          0                45.0                 0   Ketapril\n",
       "2     g107          0                45.0                 0   Ketapril\n",
       "3     a457          0                45.0                 0   Ketapril\n",
       "4     c819          0                45.0                 0   Ketapril"
      ]
     },
     "execution_count": 4,
     "metadata": {},
     "output_type": "execute_result"
    }
   ],
   "source": [
    "# Read the Mouse and Drug Data and the Clinical Trial Data\n",
    "mouse_data_path= 'data/mouse_drug_data.csv'\n",
    "clinical_data_path = 'data/clinicaltrial_data.csv'\n",
    "\n",
    "\n",
    "# Read the Mouse and Drug Data and the Clinical Trial Data\n",
    "mouse_drug_df = pd.read_csv(mouse_data_path)\n",
    "clinical_trial_df = pd.read_csv(clinical_data_path)\n",
    "\n",
    "\n",
    "# Combine the data into a single dataset\n",
    "complete_df = pd.merge(clinical_trial_df,mouse_drug_df,on='Mouse ID',how='left')\n",
    "\n",
    "# Display the data table for preview\n",
    "complete_df.head()"
   ]
  },
  {
   "cell_type": "markdown",
   "metadata": {},
   "source": [
    "## Tumor Response to Treatment"
   ]
  },
  {
   "cell_type": "code",
   "execution_count": 13,
   "metadata": {},
   "outputs": [
    {
     "data": {
      "text/html": [
       "<div>\n",
       "<style scoped>\n",
       "    .dataframe tbody tr th:only-of-type {\n",
       "        vertical-align: middle;\n",
       "    }\n",
       "\n",
       "    .dataframe tbody tr th {\n",
       "        vertical-align: top;\n",
       "    }\n",
       "\n",
       "    .dataframe thead th {\n",
       "        text-align: right;\n",
       "    }\n",
       "</style>\n",
       "<table border=\"1\" class=\"dataframe\">\n",
       "  <thead>\n",
       "    <tr style=\"text-align: right;\">\n",
       "      <th></th>\n",
       "      <th></th>\n",
       "      <th>Tumor Volume (mm3)</th>\n",
       "      <th>Metastatic Sites</th>\n",
       "    </tr>\n",
       "    <tr>\n",
       "      <th>Drug</th>\n",
       "      <th>Timepoint</th>\n",
       "      <th></th>\n",
       "      <th></th>\n",
       "    </tr>\n",
       "  </thead>\n",
       "  <tbody>\n",
       "    <tr>\n",
       "      <td rowspan=\"5\" valign=\"top\">Capomulin</td>\n",
       "      <td>0</td>\n",
       "      <td>45.000000</td>\n",
       "      <td>0.000000</td>\n",
       "    </tr>\n",
       "    <tr>\n",
       "      <td>5</td>\n",
       "      <td>44.266086</td>\n",
       "      <td>0.160000</td>\n",
       "    </tr>\n",
       "    <tr>\n",
       "      <td>10</td>\n",
       "      <td>43.084291</td>\n",
       "      <td>0.320000</td>\n",
       "    </tr>\n",
       "    <tr>\n",
       "      <td>15</td>\n",
       "      <td>42.064317</td>\n",
       "      <td>0.375000</td>\n",
       "    </tr>\n",
       "    <tr>\n",
       "      <td>20</td>\n",
       "      <td>40.716325</td>\n",
       "      <td>0.652174</td>\n",
       "    </tr>\n",
       "  </tbody>\n",
       "</table>\n",
       "</div>"
      ],
      "text/plain": [
       "                     Tumor Volume (mm3)  Metastatic Sites\n",
       "Drug      Timepoint                                      \n",
       "Capomulin 0                   45.000000          0.000000\n",
       "          5                   44.266086          0.160000\n",
       "          10                  43.084291          0.320000\n",
       "          15                  42.064317          0.375000\n",
       "          20                  40.716325          0.652174"
      ]
     },
     "execution_count": 13,
     "metadata": {},
     "output_type": "execute_result"
    }
   ],
   "source": [
    "# Store the Mean \"Tumor Volume Data\" Grouped by Drug and Timepoint \n",
    "tumor_response_mean_df = complete_df.groupby([\"Drug\",\"Timepoint\"]).mean()\n",
    "\n",
    "# Convert to DataFrame\n",
    "tumor_response_mean_df = pd.DataFrame(tumor_response_mean_df)\n",
    "\n",
    "# Preview DataFrame \n",
    "tumor_response_mean_df.head()"
   ]
  },
  {
   "cell_type": "code",
   "execution_count": null,
   "metadata": {
    "scrolled": true
   },
   "outputs": [],
   "source": []
  },
  {
   "cell_type": "code",
   "execution_count": 20,
   "metadata": {},
   "outputs": [
    {
     "data": {
      "text/html": [
       "<div>\n",
       "<style scoped>\n",
       "    .dataframe tbody tr th:only-of-type {\n",
       "        vertical-align: middle;\n",
       "    }\n",
       "\n",
       "    .dataframe tbody tr th {\n",
       "        vertical-align: top;\n",
       "    }\n",
       "\n",
       "    .dataframe thead th {\n",
       "        text-align: right;\n",
       "    }\n",
       "</style>\n",
       "<table border=\"1\" class=\"dataframe\">\n",
       "  <thead>\n",
       "    <tr style=\"text-align: right;\">\n",
       "      <th></th>\n",
       "      <th></th>\n",
       "      <th>Tumor Volume (mm3)</th>\n",
       "    </tr>\n",
       "    <tr>\n",
       "      <th>Drug</th>\n",
       "      <th>Timepoint</th>\n",
       "      <th></th>\n",
       "    </tr>\n",
       "  </thead>\n",
       "  <tbody>\n",
       "    <tr>\n",
       "      <td rowspan=\"5\" valign=\"top\">Capomulin</td>\n",
       "      <td>0</td>\n",
       "      <td>0.000000</td>\n",
       "    </tr>\n",
       "    <tr>\n",
       "      <td>5</td>\n",
       "      <td>0.448593</td>\n",
       "    </tr>\n",
       "    <tr>\n",
       "      <td>10</td>\n",
       "      <td>0.702684</td>\n",
       "    </tr>\n",
       "    <tr>\n",
       "      <td>15</td>\n",
       "      <td>0.838617</td>\n",
       "    </tr>\n",
       "    <tr>\n",
       "      <td>20</td>\n",
       "      <td>0.909731</td>\n",
       "    </tr>\n",
       "  </tbody>\n",
       "</table>\n",
       "</div>"
      ],
      "text/plain": [
       "                     Tumor Volume (mm3)\n",
       "Drug      Timepoint                    \n",
       "Capomulin 0                    0.000000\n",
       "          5                    0.448593\n",
       "          10                   0.702684\n",
       "          15                   0.838617\n",
       "          20                   0.909731"
      ]
     },
     "execution_count": 20,
     "metadata": {},
     "output_type": "execute_result"
    }
   ],
   "source": [
    "# Store the Standard Error of Tumor Volumes Grouped by Drug and Timepoint\n",
    "tumor_response_sem = complete_df.groupby([\"Drug\", \"Timepoint\"])['Tumor Volume (mm3)'].sem()\n",
    "\n",
    "# Convert to DataFrame\n",
    "tumor_response_sem = pd.DataFrame(tumor_response_sem)\n",
    "\n",
    "# Preview DataFrame \n",
    "tumor_response_sem.head()\n"
   ]
  },
  {
   "cell_type": "code",
   "execution_count": null,
   "metadata": {},
   "outputs": [],
   "source": []
  },
  {
   "cell_type": "code",
   "execution_count": null,
   "metadata": {},
   "outputs": [],
   "source": [
    "# Minor Data Munging to Re-Format the Data Frames\n",
    "tumor_pivot = tumor_response_mean_df.pivot(index =\"Timepoint\", columns = 'Drug', values = \"Tumor Volume (mm3)\")\n",
    "stdErrVsTime = stdErrorTumorVol.pivot(index='Timepoint', columns='Drug', values='Tumor Volume (mm3)')\n",
    "#Preview the formatted table\n",
    "tumor_pivot_table.head()\n"
   ]
  },
  {
   "cell_type": "code",
   "execution_count": null,
   "metadata": {
    "scrolled": true
   },
   "outputs": [],
   "source": [
    "table_fourdrugs = pivot_table[[\"Timepoint\", \"Capomulin\", \"Infubinol\", \"Ketapril\", \"Placebo\"]]\n",
    "table_fourdrugs.head()"
   ]
  },
  {
   "cell_type": "code",
   "execution_count": null,
   "metadata": {},
   "outputs": [],
   "source": [
    "# Generate the Plot (with Error Bars)\n",
    "plt.figure(figsize = (10, 5))\n",
    "\n",
    "plt.errorbar(x=table_fourdrugs['Timepoint'],y=table_fourdrugs['Capomulin'], yerr=None, linestyle=\"--\", fmt='o')\n",
    "plt.errorbar(x=table_fourdrugs['Timepoint'],y=table_fourdrugs['Infubinol'], yerr=None, linestyle=\"--\", fmt='o')\n",
    "plt.errorbar(x=table_fourdrugs['Timepoint'],y=table_fourdrugs['Ketapril'], yerr=None, linestyle=\"--\",fmt='o')\n",
    "plt.errorbar(x=table_fourdrugs['Timepoint'],y=table_fourdrugs['Placebo'], yerr=None, linestyle=\"--\", fmt='o')\n",
    "\n",
    "plt.ylabel('Tumor Volume(mm3)')\n",
    "plt.xlabel('Time (Days)')\n",
    "plt.title('Tumor Response to Treatment')\n",
    "plt.grid()\n",
    "plt.legend()  \n",
    "# Show the Figure\n",
    "plt.show()\n"
   ]
  },
  {
   "cell_type": "code",
   "execution_count": null,
   "metadata": {},
   "outputs": [],
   "source": [
    "# Show the Figure"
   ]
  },
  {
   "cell_type": "markdown",
   "metadata": {},
   "source": [
    "![Tumor Response to Treatment](../Images/treatment.png)"
   ]
  },
  {
   "cell_type": "markdown",
   "metadata": {},
   "source": [
    "## Metastatic Response to Treatment"
   ]
  },
  {
   "cell_type": "code",
   "execution_count": null,
   "metadata": {},
   "outputs": [],
   "source": [
    "# Store the Mean Met. Site Data Grouped by Drug and Timepoint \n",
    "combine_group_mean_met= complete_df.groupby([\"Drug\",\"Timepoint\"]).mean()\n",
    "\n",
    "# Convert to DataFrame\n",
    "met_response_mean_df = pd.DataFrame(combine_group_mean_met[\"Metastatic Sites\"])\n",
    "\n",
    "# Preview DataFrame \n",
    "met_response_mean_df.head()"
   ]
  },
  {
   "cell_type": "code",
   "execution_count": null,
   "metadata": {},
   "outputs": [],
   "source": []
  },
  {
   "cell_type": "code",
   "execution_count": null,
   "metadata": {},
   "outputs": [],
   "source": [
    "# Store the Standard Error associated with Met. Sites Grouped by Drug and Timepoint \n",
    "combine_group_met_sem = complete_df.groupby([\"Drug\",\"Timepoint\"]).sem()\n",
    "\n",
    "# Convert to DataFrame\n",
    "met_response_sem_df = pd.DataFrame(combine_group_sem)\n",
    "\n",
    "# Preview DataFrame\n",
    "met_response_sem_df.head()"
   ]
  },
  {
   "cell_type": "code",
   "execution_count": null,
   "metadata": {},
   "outputs": [],
   "source": []
  },
  {
   "cell_type": "code",
   "execution_count": null,
   "metadata": {},
   "outputs": [],
   "source": [
    "# Minor Data Munging to Re-Format the Data Frames\n",
    "met_response_mean_df2 = pd.DataFrame(combine_group_mean)\n",
    "\n",
    "# Preview that Reformatting worked\n",
    "# Store the Mean \"Tumor Volume Data\" Grouped by Drug and Timepoint \n",
    "#met_response_mean_df.reset_index(level = None, inplace = True)\n",
    "#met_response_mean_df2 = pd.DataFrame(combine_group_mean)\n",
    "\n",
    "\n",
    "pivot_table_met = met_response_mean_df2.pivot(index =\"Timepoint\", columns = 'Drug', values = \"Metastatic Sites\")\n",
    "pivot_table_met.reset_index(level = None, inplace = True)\n",
    "\n",
    "#Preview the formatted table\n",
    "pivot_table_met.head()"
   ]
  },
  {
   "cell_type": "code",
   "execution_count": null,
   "metadata": {
    "scrolled": true
   },
   "outputs": [],
   "source": [
    "\n",
    "met_table_fourdrugs = pivot_table_met[[\"Timepoint\", \"Capomulin\", \"Infubinol\", \"Ketapril\", \"Placebo\"]]\n",
    "met_table_fourdrugs.head()"
   ]
  },
  {
   "cell_type": "code",
   "execution_count": null,
   "metadata": {},
   "outputs": [],
   "source": [
    "# Generate the Plot (with Error Bars)\n",
    "plt.figure(figsize = (10, 5))\n",
    "\n",
    "plt.errorbar(x=met_table_fourdrugs['Timepoint'],y=met_table_fourdrugs['Capomulin'], yerr=None, linestyle=\"--\", fmt='o')\n",
    "plt.errorbar(x=met_table_fourdrugs['Timepoint'],y=met_table_fourdrugs['Infubinol'], yerr=None, linestyle=\"--\", fmt='o')\n",
    "plt.errorbar(x=met_table_fourdrugs['Timepoint'],y=met_table_fourdrugs['Ketapril'], yerr=None, linestyle=\"--\",fmt='o')\n",
    "plt.errorbar(x=met_table_fourdrugs['Timepoint'],y=met_table_fourdrugs['Placebo'], yerr=None, linestyle=\"--\", fmt='o')\n",
    "\n",
    "plt.ylabel(\"Met Sites\")\n",
    "plt.xlabel('Time (Days)')\n",
    "plt.title('Metastatic Response to Treatment')\n",
    "plt.grid()\n",
    "plt.legend()       \n",
    "plt.show()\n",
    "# Save the Figure\n",
    "plt.savefig(\"../MetSiteResponse.png\")"
   ]
  },
  {
   "cell_type": "markdown",
   "metadata": {},
   "source": [
    "![Metastatic Spread During Treatment](../Images/spread.png)"
   ]
  },
  {
   "cell_type": "markdown",
   "metadata": {},
   "source": [
    "## Survival Rates"
   ]
  },
  {
   "cell_type": "code",
   "execution_count": null,
   "metadata": {},
   "outputs": [],
   "source": [
    "# Store the Count of Mice Grouped by Drug and Timepoint (W can pass any metric)\n",
    "micecount=complete_df.groupby([\"Drug\",\"Timepoint\"]).count()\n",
    "\n",
    "# Convert to DataFrame\n",
    "micecount_df=pd.DataFrame(micecount[\"Mouse ID\"])\n",
    "micecount_df.reset_index(inplace=True)\n",
    "\n",
    "#Display dataframe\n",
    "micecount_df.head()"
   ]
  },
  {
   "cell_type": "code",
   "execution_count": null,
   "metadata": {},
   "outputs": [],
   "source": []
  },
  {
   "cell_type": "code",
   "execution_count": null,
   "metadata": {},
   "outputs": [],
   "source": [
    "# Minor Data Munging to Re-Format the Data Frames\n",
    "\n",
    "pivot_table_mice = micecount_df.pivot(index =\"Timepoint\", columns = 'Drug', values = \"Mouse ID\")\n",
    "pivot_table_mice.reset_index(level = None, inplace = True)\n",
    "\n",
    "#Preview the formatted table\n",
    "pivot_table_mice.head()"
   ]
  },
  {
   "cell_type": "code",
   "execution_count": null,
   "metadata": {
    "scrolled": true
   },
   "outputs": [],
   "source": [
    "mice_table_fourdrugs = pivot_table_mice[[\"Timepoint\", \"Capomulin\", \"Infubinol\", \"Ketapril\", \"Placebo\"]]\n",
    "mice_table_fourdrugs.head()"
   ]
  },
  {
   "cell_type": "code",
   "execution_count": null,
   "metadata": {},
   "outputs": [],
   "source": [
    "\n",
    "#Calculations for the survival rate\n",
    "\n",
    "survival_fourdrugs_df = mice_table_fourdrugs.astype(float)\n",
    "survival_fourdrugs_df[\"Capomulin_percent\"]=survival_fourdrugs_df[\"Capomulin\"]/survival_fourdrugs_df[\"Capomulin\"].iloc[0] * 100\n",
    "survival_fourdrugs_df[\"Infubinol_percent\"]=survival_fourdrugs_df[\"Infubinol\"]/survival_fourdrugs_df[\"Infubinol\"].iloc[0] * 100\n",
    "survival_fourdrugs_df[\"Ketapril_percent\"]=survival_fourdrugs_df[\"Ketapril\"]/survival_fourdrugs_df[\"Ketapril\"].iloc[0] * 100\n",
    "survival_fourdrugs_df[\"Placebo_percent\"]=survival_fourdrugs_df[\"Placebo\"]/survival_fourdrugs_df[\"Placebo\"].iloc[0] * 100\n",
    "survival_fourdrugs_df"
   ]
  },
  {
   "cell_type": "code",
   "execution_count": null,
   "metadata": {},
   "outputs": [],
   "source": [
    "# Generate the Plot (Accounting for percentages)\n",
    "plt.figure(figsize = (10, 5))\n",
    "\n",
    "\n",
    "plt.errorbar(x=survival_fourdrugs_df ['Timepoint'],y=survival_fourdrugs_df['Capomulin_percent'], linestyle=\"--\", fmt='o')\n",
    "plt.errorbar(x=survival_fourdrugs_df['Timepoint'],y=survival_fourdrugs_df['Infubinol_percent'], linestyle=\"--\", fmt='o')\n",
    "plt.errorbar(x=survival_fourdrugs_df['Timepoint'],y=survival_fourdrugs_df['Ketapril_percent'], linestyle=\"--\",fmt='o')\n",
    "plt.errorbar(x=survival_fourdrugs_df['Timepoint'],y=survival_fourdrugs_df['Placebo_percent'], linestyle=\"--\", fmt='o')\n",
    "\n",
    "plt.ylabel(\"Survival Rate (%)\")\n",
    "plt.xlabel('Time (Days)')\n",
    "plt.title(' Survival During Treatment')\n",
    "plt.grid()\n",
    "plt.legend()       \n",
    "plt.show()\n",
    "# Save the Figure\n",
    "plt.savefig(\"../SurvivalRespnse.png\")\n",
    "plt.show()"
   ]
  },
  {
   "cell_type": "markdown",
   "metadata": {},
   "source": [
    "![Metastatic Spread During Treatment](../Images/survival.png)"
   ]
  },
  {
   "cell_type": "markdown",
   "metadata": {},
   "source": [
    "## Summary Bar Graph"
   ]
  },
  {
   "cell_type": "code",
   "execution_count": null,
   "metadata": {},
   "outputs": [],
   "source": [
    "# Calculate the percent changes for Capomulin drug\n",
    "Capomulin_percent=(table_fourdrugs[\"Capomulin\"].iloc[9]-table_fourdrugs[\"Capomulin\"].iloc[0])/table_fourdrugs[\"Capomulin\"].iloc[0]*100\n",
    "# Display the data to confirm\n",
    "Capomulin_percent"
   ]
  },
  {
   "cell_type": "code",
   "execution_count": null,
   "metadata": {},
   "outputs": [],
   "source": [
    "# Calculate the percent changes for Infubinol drug\n",
    "Infubinol_percent=(table_fourdrugs[\"Infubinol\"].iloc[9]-table_fourdrugs[\"Infubinol\"].iloc[0])/table_fourdrugs[\"Infubinol\"].iloc[0]*100\n",
    "# Display the data to confirm\n",
    "Infubinol_percent"
   ]
  },
  {
   "cell_type": "code",
   "execution_count": null,
   "metadata": {},
   "outputs": [],
   "source": [
    "# Calculate the percent changes for Ketapril drug\n",
    "Ketapril_percent=(table_fourdrugs[\"Ketapril\"].iloc[9]-table_fourdrugs[\"Ketapril\"].iloc[0])/table_fourdrugs[\"Ketapril\"].iloc[0]*100\n",
    "# Display the data to confirm\n",
    "Ketapril_percent"
   ]
  },
  {
   "cell_type": "code",
   "execution_count": null,
   "metadata": {},
   "outputs": [],
   "source": [
    "# Calculate the percent changes for Placebo drug\n",
    "Placebo_percent=(table_fourdrugs[\"Placebo\"].iloc[9]-table_fourdrugs[\"Placebo\"].iloc[0])/table_fourdrugs[\"Placebo\"].iloc[0]*100\n",
    "# Display the data to confirm\n",
    "Placebo_percent"
   ]
  },
  {
   "cell_type": "code",
   "execution_count": null,
   "metadata": {},
   "outputs": [],
   "source": []
  },
  {
   "cell_type": "code",
   "execution_count": null,
   "metadata": {},
   "outputs": [],
   "source": [
    "# Store all Relevant Percent Changes into a Tuple\n",
    "\n",
    "\n",
    "# Splice the data between passing and failing drugs\n",
    "\n",
    "\n",
    "# Orient widths. Add labels, tick marks, etc. \n",
    "\n",
    "\n",
    "# Use functions to label the percentages of changes\n",
    "\n",
    "\n",
    "# Call functions to implement the function calls\n",
    "\n",
    "\n",
    "# Save the Figure\n",
    "\n",
    "\n",
    "# Show the Figure\n",
    "fig.show()"
   ]
  },
  {
   "cell_type": "code",
   "execution_count": null,
   "metadata": {},
   "outputs": [],
   "source": [
    "# Store all Relevant Percent Changes into a Tuple\n",
    "percent_tuple = {'Capomulin': Capomulin_percent, 'Infubinol': Infubinol_percent, 'Ketapril': Ketapril_percent, 'Placebo': Placebo_percent}\n",
    "percentchange_tumorvolume = pd.Series(percent_tuple)\n",
    "percentchange_tumorvolume"
   ]
  },
  {
   "cell_type": "markdown",
   "metadata": {},
   "source": [
    "![Metastatic Spread During Treatment](../Images/change.png)"
   ]
  },
  {
   "cell_type": "code",
   "execution_count": null,
   "metadata": {},
   "outputs": [],
   "source": [
    "#Index the 4 drugs\n",
    "testdrugs=percentchange_tumorvolume.keys()\n",
    "testdrugs"
   ]
  },
  {
   "cell_type": "code",
   "execution_count": null,
   "metadata": {},
   "outputs": [],
   "source": [
    "summary_bar = plt.subplot()\n",
    "x_axis = np.arange(0, len(testdrugs))\n",
    "# Splice the data between passing and failing drugs\n",
    "# Orient widths. Add labels, tick marks, etc. \n",
    "\n",
    "tick_locations = []\n",
    "for x in x_axis:\n",
    "    tick_locations.append(x + 0.5)\n",
    "plt.xticks(tick_locations, testdrugs)\n",
    "colors = []\n",
    "for value in percentchange_tumorvolume:\n",
    "    if value >= 0 :\n",
    "        colors.append('r')\n",
    "    else:\n",
    "        colors.append('g')\n",
    "        \n",
    " #Plot       \n",
    "percent_change = summary_bar.bar(x_axis, percentchange_tumorvolume, color=colors, align=\"edge\")\n",
    "\n",
    "plt.title(\"Tumor Change Over 45 Days Treatment\")\n",
    "plt.ylabel(\"% Tumor Volume Change\")\n",
    "plt.xlim(-0.25, len(testdrugs))\n",
    "plt.ylim(-30, max(percentchange_tumorvolume) + 20)\n",
    "plt.grid()\n",
    "\n",
    "plt.show()"
   ]
  }
 ],
 "metadata": {
  "anaconda-cloud": {},
  "kernelspec": {
   "display_name": "Python 3",
   "language": "python",
   "name": "python3"
  },
  "language_info": {
   "codemirror_mode": {
    "name": "ipython",
    "version": 3
   },
   "file_extension": ".py",
   "mimetype": "text/x-python",
   "name": "python",
   "nbconvert_exporter": "python",
   "pygments_lexer": "ipython3",
   "version": "3.7.4"
  }
 },
 "nbformat": 4,
 "nbformat_minor": 4
}
